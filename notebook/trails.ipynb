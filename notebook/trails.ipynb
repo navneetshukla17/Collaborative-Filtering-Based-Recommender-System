{
 "cells": [
  {
   "cell_type": "code",
   "execution_count": 2,
   "id": "4e9acf24-6775-45f3-92c6-1606633821ad",
   "metadata": {},
   "outputs": [],
   "source": [
    "import numpy as np\n",
    "import pandas as pd"
   ]
  },
  {
   "cell_type": "code",
   "execution_count": null,
   "id": "4aef516c-5e8d-41dd-b336-5f22a1075f9f",
   "metadata": {},
   "outputs": [],
   "source": [
    "df = pd.read_csv('BX-Book-Ratings.csv')\n",
    "df."
   ]
  }
 ],
 "metadata": {
  "kernelspec": {
   "display_name": "Python 3 (ipykernel)",
   "language": "python",
   "name": "python3"
  },
  "language_info": {
   "codemirror_mode": {
    "name": "ipython",
    "version": 3
   },
   "file_extension": ".py",
   "mimetype": "text/x-python",
   "name": "python",
   "nbconvert_exporter": "python",
   "pygments_lexer": "ipython3",
   "version": "3.13.2"
  }
 },
 "nbformat": 4,
 "nbformat_minor": 5
}
